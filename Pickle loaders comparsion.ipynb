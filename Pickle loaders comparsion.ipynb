{
 "cells": [
  {
   "cell_type": "code",
   "execution_count": 1,
   "metadata": {},
   "outputs": [
    {
     "ename": "SyntaxError",
     "evalue": "Missing parentheses in call to 'print'. Did you mean print(\"Cannot import cPickle\")? (<ipython-input-1-d0b3bac9ac16>, line 8)",
     "output_type": "error",
     "traceback": [
      "\u001b[0;36m  File \u001b[0;32m\"<ipython-input-1-d0b3bac9ac16>\"\u001b[0;36m, line \u001b[0;32m8\u001b[0m\n\u001b[0;31m    print \"Cannot import cPickle\"\u001b[0m\n\u001b[0m                                ^\u001b[0m\n\u001b[0;31mSyntaxError\u001b[0m\u001b[0;31m:\u001b[0m Missing parentheses in call to 'print'. Did you mean print(\"Cannot import cPickle\")?\n"
     ]
    }
   ],
   "source": [
    "#comparing pickle loaders\n",
    "from time import time\n",
    "import pickle\n",
    "import os\n",
    "try:\n",
    "   import cPickle\n",
    "except:\n",
    "   print \"Cannot import cPickle\"\n",
    "import joblib\n",
    "\n",
    "t1 = time()\n",
    "lis = []\n",
    "d = pickle.load(open(\"classi.pickle\",\"r\"))\n",
    "print (\"time for loading file size with pickle\", os.path.getsize(\"classi.pickle\"),\"KB =>\", time()-t1)\n",
    "\n",
    "t1 = time()\n",
    "cPickle.load(open(\"classi.pickle\",\"r\"))\n",
    "print (\"time for loading file size with cpickle\", os.path.getsize(\"classi.pickle\"),\"KB =>\", time()-t1)\n",
    "\n",
    "t1 = time()\n",
    "joblib.load(\"classi.pickle\")\n",
    "print (\"time for loading file size joblib\", os.path.getsize(\"classi.pickle\"),\"KB =>\", time()-t1)"
   ]
  },
  {
   "cell_type": "code",
   "execution_count": null,
   "metadata": {},
   "outputs": [],
   "source": []
  }
 ],
 "metadata": {
  "kernelspec": {
   "display_name": "Python 3",
   "language": "python",
   "name": "python3"
  },
  "language_info": {
   "codemirror_mode": {
    "name": "ipython",
    "version": 3
   },
   "file_extension": ".py",
   "mimetype": "text/x-python",
   "name": "python",
   "nbconvert_exporter": "python",
   "pygments_lexer": "ipython3",
   "version": "3.7.1"
  }
 },
 "nbformat": 4,
 "nbformat_minor": 2
}
